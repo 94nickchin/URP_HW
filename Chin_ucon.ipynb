{
 "cells": [
  {
   "cell_type": "code",
   "execution_count": 10,
   "id": "40a2715b-56e1-4564-afbe-49d3555a6238",
   "metadata": {},
   "outputs": [],
   "source": [
    "def Chin_ucon():    \n",
    "    def ft2mi(ft):\n",
    "        mi = round((ft*0.000189394), 3)\n",
    "        print(str(ft) + \"ft = \" + str(mi) + 'mi')\n",
    "    def ft2m(ft):\n",
    "        m = round((ft*0.304800097536), 3)\n",
    "        print(str(ft) + \"ft = \" + str(m) + 'm')\n",
    "    def m2ft(m):\n",
    "        ft = round((m*3.28084), 3)\n",
    "        print(str(m) + \"m = \" + str(ft) + 'ft')\n",
    "    def m2mi(m):\n",
    "        mi = round((m*0.000621371), 3)\n",
    "        print(str(m) + \"m = \" + str(mi) + 'mi')\n",
    "    def sqft2acre(sqft):\n",
    "        acre = round((sqft*43560), 3)\n",
    "        print(str(sqft) + \"ft2 = \" + str(acre) + 'acre')\n",
    "    def sq_m2acre(sq_m):\n",
    "        acre = round((sq_m*4046.86), 3)\n",
    "        print(str(sq_m) + \"m2 = \" + str(acre) + 'acre')\n",
    "    def sq_mi2acre(sq_mi):\n",
    "        acre = round((sq_mi*0.0015625), 3)\n",
    "        print(str(sq_mi) + \"mi2 = \" + str(acre) + 'acre')\n",
    "    def hect2acre(hect):\n",
    "        acre = round((hect*0.404686), 3)\n",
    "        print(str(hect) + \"hectares = \" + str(acre) + 'acre')\n",
    "\n",
    "\n",
    "    print('Welcome to the unit converter')\n",
    "    print('Choose the function you want to use')\n",
    "    print('1. Feet to Miles')\n",
    "    print('2. Feet to Meters')\n",
    "    print('3. Meters to Feet')\n",
    "    print('4. Meters to Miles')\n",
    "    print('5. Square Feet to Acres')\n",
    "    print('6. Square Meters to Acres')\n",
    "    print('7. Square Miles to Acres')\n",
    "    print('8. Hectares to Acres')\n",
    "\n",
    "\n",
    "    while True:\n",
    "        '''User defined input for the function that they want to call'''\n",
    "        function = input(\"Choose from the functions above, between 1 and 8: \")\n",
    "        try:\n",
    "            function = int(function)\n",
    "            if function not in range(1,9):\n",
    "                print('Please enter a number between 1 and 8 (corresponding to above functions)')\n",
    "                continue\n",
    "        except:\n",
    "            print(\"Invalid number\")\n",
    "            continue\n",
    "\n",
    "        '''User defined input for the number that they want to convert'''\n",
    "        number = input(\"Enter the value that you want to convert: \")\n",
    "        try:\n",
    "            number = int(number)\n",
    "        except:\n",
    "            print(\"Invalid number\") \n",
    "            continue\n",
    "        if number < 0:\n",
    "            print('Please enter a positive number.')\n",
    "            continue\n",
    "\n",
    "        if function == 1:\n",
    "            ft2mi(number)\n",
    "        elif function == 2:\n",
    "            ft2m(number)\n",
    "        elif function == 3:\n",
    "            m2ft(number)\n",
    "        elif function == 4:\n",
    "            m2mi(number)\n",
    "        elif function == 5:\n",
    "            sqft2acre(number)\n",
    "        elif function == 6:\n",
    "            sq_m2acre(number)\n",
    "        elif function == 7:\n",
    "            sq_mi2acre(number)    \n",
    "        elif function == 8:\n",
    "            hect2acre(number)\n",
    "\n",
    "        resume_cmd = input(\"Enter any key to continue or press 'E' to Exit:\" )\n",
    "        resume_cmd = resume_cmd.upper()\n",
    "        if resume_cmd == 'E':\n",
    "            break\n",
    "        else:\n",
    "            continue\n",
    "        \n",
    "        \n",
    "        "
   ]
  },
  {
   "cell_type": "code",
   "execution_count": 12,
   "id": "514160c1-0592-4e5b-8123-f3f00c98b000",
   "metadata": {},
   "outputs": [
    {
     "name": "stdout",
     "output_type": "stream",
     "text": [
      "Welcome to the unit converter\n",
      "Choose the function you want to use\n",
      "1. Feet to Miles\n",
      "2. Feet to Meters\n",
      "3. Meters to Feet\n",
      "4. Meters to Miles\n",
      "5. Square Feet to Acres\n",
      "6. Square Meters to Acres\n",
      "7. Square Miles to Acres\n",
      "8. Hectares to Acres\n"
     ]
    },
    {
     "name": "stdin",
     "output_type": "stream",
     "text": [
      "Choose from the functions above, between 1 and 8:  8\n",
      "Enter the value that you want to convert:  5\n"
     ]
    },
    {
     "name": "stdout",
     "output_type": "stream",
     "text": [
      "5hectares = 2.023acre\n"
     ]
    },
    {
     "name": "stdin",
     "output_type": "stream",
     "text": [
      "Enter any key to continue or press 'E' to Exit: 2\n",
      "Choose from the functions above, between 1 and 8:  \n"
     ]
    },
    {
     "name": "stdout",
     "output_type": "stream",
     "text": [
      "Invalid number\n"
     ]
    },
    {
     "name": "stdin",
     "output_type": "stream",
     "text": [
      "Choose from the functions above, between 1 and 8:  2\n",
      "Enter the value that you want to convert:  12\n"
     ]
    },
    {
     "name": "stdout",
     "output_type": "stream",
     "text": [
      "12ft = 3.658m\n"
     ]
    },
    {
     "name": "stdin",
     "output_type": "stream",
     "text": [
      "Enter any key to continue or press 'E' to Exit: e\n"
     ]
    }
   ],
   "source": [
    "Chin_ucon()"
   ]
  }
 ],
 "metadata": {
  "kernelspec": {
   "display_name": "Python 3",
   "language": "python",
   "name": "python3"
  },
  "language_info": {
   "codemirror_mode": {
    "name": "ipython",
    "version": 3
   },
   "file_extension": ".py",
   "mimetype": "text/x-python",
   "name": "python",
   "nbconvert_exporter": "python",
   "pygments_lexer": "ipython3",
   "version": "3.8.8"
  }
 },
 "nbformat": 4,
 "nbformat_minor": 5
}
