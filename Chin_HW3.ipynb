{
 "cells": [
  {
   "cell_type": "markdown",
   "metadata": {},
   "source": [
    "1. Feet to Miles,\n",
    "2. Feet to Meters,\n",
    "3. Meters to Feet,\n",
    "4. Meters to Miles,\n",
    "5. Square Feet to Acres,\n",
    "6. Square Meters to Acres,\n",
    "7. Square Miles to Acres, and\n",
    "8. Hectares to Acres."
   ]
  },
  {
   "cell_type": "markdown",
   "metadata": {},
   "source": [
    "####  Feet to Miles"
   ]
  },
  {
   "cell_type": "code",
   "execution_count": 10,
   "metadata": {},
   "outputs": [],
   "source": [
    "def ft2mi(ft):\n",
    "    mi = ft*0.000189394\n",
    "    print(str(ft) + \"ft = \" + str(mi) + 'mi')"
   ]
  },
  {
   "cell_type": "markdown",
   "metadata": {},
   "source": [
    "#### Feet to Meters"
   ]
  },
  {
   "cell_type": "code",
   "execution_count": 4,
   "metadata": {},
   "outputs": [],
   "source": [
    "def ft2m(ft):\n",
    "    m = ft*0.304800097536\n",
    "    print(str(ft) + \"ft = \" + str(m) + 'm')"
   ]
  },
  {
   "cell_type": "markdown",
   "metadata": {},
   "source": [
    "#### Meters to Feet"
   ]
  },
  {
   "cell_type": "code",
   "execution_count": 6,
   "metadata": {},
   "outputs": [],
   "source": [
    "def m2ft(m):\n",
    "    ft = m*3.28084\n",
    "    print(str(m) + \"m = \" + str(ft) + 'ft')"
   ]
  },
  {
   "cell_type": "markdown",
   "metadata": {},
   "source": [
    "#### Meters to Miles"
   ]
  },
  {
   "cell_type": "code",
   "execution_count": 7,
   "metadata": {},
   "outputs": [],
   "source": [
    "def m2mi(m):\n",
    "    mi = m*0.000621371\n",
    "    print(str(m) + \"m = \" + str(mi) + 'mi')"
   ]
  },
  {
   "cell_type": "markdown",
   "metadata": {},
   "source": [
    "#### Square Feet to Acres"
   ]
  },
  {
   "cell_type": "code",
   "execution_count": 8,
   "metadata": {},
   "outputs": [],
   "source": [
    "def sqft2acre(sqft):\n",
    "    acre = sqft*43560\n",
    "    print(str(sqft) + \"ft2 = \" + str(acre) + 'acre')"
   ]
  },
  {
   "cell_type": "markdown",
   "metadata": {},
   "source": [
    "#### Square Meters to Acres"
   ]
  },
  {
   "cell_type": "code",
   "execution_count": 9,
   "metadata": {},
   "outputs": [],
   "source": [
    "def sq_m2acre(sq_m):\n",
    "    acre = sq_m*4046.86\n",
    "    print(str(sq_m) + \"m2 = \" + str(acre) + 'acre')"
   ]
  },
  {
   "cell_type": "markdown",
   "metadata": {},
   "source": [
    "#### Square Miles to Acres"
   ]
  },
  {
   "cell_type": "code",
   "execution_count": 15,
   "metadata": {},
   "outputs": [],
   "source": [
    "def sq_mi2acre(sq_mi):\n",
    "    acre = sq_mi*0.0015625\n",
    "    print(str(sq_mi) + \"mi2 = \" + str(acre) + 'acre')"
   ]
  },
  {
   "cell_type": "markdown",
   "metadata": {},
   "source": [
    "#### Hectares to Acres"
   ]
  },
  {
   "cell_type": "code",
   "execution_count": 16,
   "metadata": {},
   "outputs": [],
   "source": [
    "def hect2acre(hect):\n",
    "    acre = hect*0.404686\n",
    "    print(str(hect) + \"hectares = \" + str(acre) + 'acre')"
   ]
  },
  {
   "cell_type": "code",
   "execution_count": null,
   "metadata": {},
   "outputs": [],
   "source": [
    "print('Welcome to the unit converter')\n",
    "print('Choose the function you want to use')\n",
    "print('1. Feet to Miles')\n",
    "print('2. Feet to Meters')\n",
    "print('3. Meters to Feet')\n",
    "print('4. Meters to Miles')\n",
    "print('5. Square Feet to Acres')\n",
    "print('6. Square Meters to Acres')\n",
    "print('7. Square Miles to Acres')\n",
    "print('8. Hectares to Acres')\n",
    "\n",
    "\n",
    "while True:\n",
    "    try:\n",
    "        function = int(input(\"Enter a number between 1 and 8: \"))\n",
    "    except ValueError:\n",
    "        print(\"Invalid number\")\n",
    "    else:\n",
    "        break\n",
    "\n",
    "    try:\n",
    "        number = int(input(\"Enter the value that you want to convert: \"))\n",
    "    except ValueError:\n",
    "        print(\"Invalid number\")   \n",
    "\n",
    "    else:\n",
    "        break\n",
    "    \n",
    "    if function == 1:\n",
    "        ft2mi(number)\n",
    "    elif function == 2:\n",
    "        ft2m(number)\n",
    "    elif function == 3:\n",
    "        m2ft(number)\n",
    "    elif function == 4:\n",
    "        m2mi(number)\n",
    "    elif function == 5:\n",
    "        sqft2acre(number)\n",
    "    elif function == 6:\n",
    "        sq_m2acre(number)\n",
    "    elif function == 7:\n",
    "        sq_mi2acre(number)    \n",
    "    elif function == 8:\n",
    "        hect2acre(number)"
   ]
  },
  {
   "cell_type": "code",
   "execution_count": null,
   "metadata": {},
   "outputs": [],
   "source": []
  },
  {
   "cell_type": "code",
   "execution_count": 23,
   "metadata": {},
   "outputs": [
    {
     "name": "stdout",
     "output_type": "stream",
     "text": [
      "Enter a number between 1 and 8 (or press 'E' to escape): E\n"
     ]
    }
   ],
   "source": [
    "function = input(\"Enter a number between 1 and 8 (or press 'E' to escape): \")"
   ]
  },
  {
   "cell_type": "code",
   "execution_count": 22,
   "metadata": {},
   "outputs": [
    {
     "data": {
      "text/plain": [
       "'3'"
      ]
     },
     "execution_count": 22,
     "metadata": {},
     "output_type": "execute_result"
    }
   ],
   "source": [
    "function"
   ]
  },
  {
   "cell_type": "code",
   "execution_count": 24,
   "metadata": {},
   "outputs": [
    {
     "data": {
      "text/plain": [
       "'E'"
      ]
     },
     "execution_count": 24,
     "metadata": {},
     "output_type": "execute_result"
    }
   ],
   "source": [
    "function"
   ]
  }
 ],
 "metadata": {
  "kernelspec": {
   "display_name": "Python 3",
   "language": "python",
   "name": "python3"
  },
  "language_info": {
   "codemirror_mode": {
    "name": "ipython",
    "version": 3
   },
   "file_extension": ".py",
   "mimetype": "text/x-python",
   "name": "python",
   "nbconvert_exporter": "python",
   "pygments_lexer": "ipython3",
   "version": "3.8.8"
  }
 },
 "nbformat": 4,
 "nbformat_minor": 4
}
